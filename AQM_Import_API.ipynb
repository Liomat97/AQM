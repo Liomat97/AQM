{
 "cells": [
  {
   "cell_type": "markdown",
   "id": "c60dfa7e",
   "metadata": {},
   "source": [
    "Ablauf:\n",
    "Fiel \"AQM_import_API\"\n",
    "1. Import Data via API from Refinitiv to Jupiter Notebook\n",
    "2. Create DataFrame, check Data and clean Data if needed:\n",
    "    - N/A\n",
    "    - Sprünge?\n",
    "    - Format?\n",
    "3. Save clean Data in SQL Lite in DB\n",
    "\n",
    "\n",
    "File \"AQM_Analyse\":\n",
    "1. Import the clean Data from SQL DB into Notebook\n",
    "2. Prepare Data for Analysis\n",
    "3. Create Dataframe to save the Results\n",
    "4. Create Loop, which executes the Test (Autocorrelation) for each Instrument (Future)\n",
    "5. Save the Results from the Loop into the \"Result\"-Dataframe\n",
    "6. Export Results to SQL Lite into Table \"Results\""
   ]
  },
  {
   "cell_type": "code",
   "execution_count": 4,
   "id": "825a06e7",
   "metadata": {},
   "outputs": [
    {
     "name": "stderr",
     "output_type": "stream",
     "text": [
      "2022-03-21 14:23:00,538 P[7108] [MainThread 23612] Error: no proxy address identified.\n",
      "Check if Eikon Desktop or Eikon API Proxy is running.\n",
      "2022-03-21 14:23:00,540 P[7108] [MainThread 23612] Error on handshake url http://127.0.0.1:None/api/handshake : UnsupportedProtocol(\"Request URL is missing an 'http://' or 'https://' protocol.\")\n",
      "2022-03-21 14:23:00,541 P[7108] [MainThread 23612] Error on handshake url http://127.0.0.1:None/api/handshake : UnsupportedProtocol(\"Request URL is missing an 'http://' or 'https://' protocol.\")\n",
      "2022-03-21 14:23:00,542 P[7108] [MainThread 23612] Port number was not identified, cannot send any request\n"
     ]
    }
   ],
   "source": [
    "import pandas as pd\n",
    "import numpy as np\n",
    "\n",
    "import scipy\n",
    "from scipy import stats\n",
    "import statsmodels as sm\n",
    "from statsmodels.regression.linear_model import OLS\n",
    "\n",
    "import math\n",
    "from math import exp, sqrt, log\n",
    "\n",
    "import matplotlib.pyplot as plt\n",
    "from mpl_toolkits.mplot3d import Axes3D\n",
    "%matplotlib inline\n",
    "\n",
    "import seaborn as sns\n",
    "import xlsxwriter\n",
    "\n",
    "import datetime\n",
    "\n",
    "import eikon as ek\n",
    "creds = 'd505f265d9bd4c0cb7df44481ece31a0ad8d1974'\n",
    "#API Key Lionel: d505f265d9bd4c0cb7df44481ece31a0ad8d1974\n",
    "#API Key Raphi:\n",
    "#API Key Laurin:\n",
    "ek.set_app_key(creds)\n"
   ]
  },
  {
   "cell_type": "code",
   "execution_count": null,
   "id": "949f6e1f",
   "metadata": {},
   "outputs": [],
   "source": [
    "#Define the Future Contracts\n",
    "\n",
    "Futures = ['LCOc1',     #ICE Europe Brent Crude \n",
    "           'CLc1',      #NYMEX Light Sweet Crude Oil (WTI)\n",
    "           'NGLNMc1',   #Intercontinetanl Exchange UK NBP Natrual Gas\n",
    "           'NGc1',      #NYMEX Henry Hub Natural Gas\n",
    "           'GCc1',      #COMEX Gold\n",
    "           'SIc1',      #COMEX Silver\n",
    "           'PLc1',      #NYM Platinum\n",
    "           'PAc1',      #CYM Palladium\n",
    "           'Wc1',       #CBoT Wheat\n",
    "           'Cc1',       #CBoT Corn\n",
    "           'LCc1',      #CME Live Cattle\n",
    "           'OJc1'       #ICE Orange Juice\n",
    "          ]"
   ]
  },
  {
   "cell_type": "code",
   "execution_count": null,
   "id": "19a14d7c",
   "metadata": {},
   "outputs": [],
   "source": [
    "import eikon as ek\n",
    "import pandas as pd\n",
    "import numpy as np\n",
    "import datetime\n",
    "\n",
    "# Here you can put your key; I read from a local file to avoid sharing password\n",
    "creds = 'd505f265d9bd4c0cb7df44481ece31a0ad8d1974'\n",
    "ek.set_app_key(creds)\n",
    "#import refinitiv.dataplatform.eikon as ek\n",
    "ek.set_app_key('DEFAULT_CODE_BOOK_APP_KEY')\n",
    "df, err = ek.get_data(\n",
    "    instruments =  ['LCOc1', 'CLc1',  'NGLNMc1'],\n",
    "    fields = ['TR.CLOSEPRICE'],\n",
    "    parameters = {\n",
    "        'SDate': '2000-01-01',\n",
    "        'EDate': '2022-01-01',\n",
    "        'Frq': 'D'\n",
    "    }\n",
    ")\n",
    "\n",
    "display(df)"
   ]
  },
  {
   "cell_type": "code",
   "execution_count": null,
   "id": "24a76264",
   "metadata": {
    "scrolled": true
   },
   "outputs": [],
   "source": [
    "#Get the Close Prices of the futures\n",
    "\n",
    "\n",
    "\n",
    "data = ek.get_timeseries(Futures,\n",
    "                        start_date = '2012-01-01',\n",
    "                        end_date = '2022-03-18',\n",
    "                        fields = 'CLOSE',\n",
    "                        interval = 'daily'\n",
    "                        )\n",
    "\n",
    "#data['Date'] = pd.to_datetime(data['Date'], format='%Y-%m-%d').dt.date # convert format to %Y-%m-%d\n",
    "\n",
    "data"
   ]
  },
  {
   "cell_type": "code",
   "execution_count": null,
   "id": "854b425b",
   "metadata": {},
   "outputs": [],
   "source": [
    "# of Investors of AAPL -- this is a real-world case based on our work\n",
    "# Step 0 : Fire up Refinitiv Workspace\n",
    "# Step 1a : Get code for stock AAPL.O\n",
    "# Step 1b : Use Data-Broswer to find series code\n",
    "# (Show data filter and browser in the tap)\n",
    "# look at Apple and no dice\n",
    "# no dice : higher level at Filters : key-word investor\n",
    "# Step one Import the libraries\n",
    "# this is the Eikon library, almost all APIs have this type of class that allows one to Specify how to interact with the API\n",
    "import eikon as ek\n",
    "import pandas as pd\n",
    "import numpy as np\n",
    "import datetime\n",
    "\n",
    "# Here you can put your key; I read from a local file to avoid sharing password\n",
    "creds = 'mykey'\n",
    "ek.set_app_key(creds)\n",
    "\n",
    "# Define a wrapper function (not strickly necessary)\n",
    "def holding_data(instrument='LCOc1', fields=[], start_year=2019, end_year=2020):\n",
    "    fields = [\"CLOSE\"]\n",
    "    dat, err = ek.get_data('LCOc1',\n",
    "                           fields = 'CLOSE',\n",
    "                           parameters={'SDate': '{}-01-01'.format(2019),\n",
    "                                       'EDate': '{}-12-31'.format(2020),\n",
    "                                       'Frq':'D'}\n",
    "                           )\n",
    "\n",
    "\n",
    "    dat['Date'] = pd.to_datetime(dat['Date'], format='%Y-%m-%d').dt.date # convert format to %Y-%m-%d\n",
    "\n",
    "    dat = dat.sort_index() # sort Date in ascending order\n",
    "    # data base containts weak data points: drop na's\n",
    "    dat = dat.dropna() # I'm ambivalent about this...\n",
    "\n",
    "    return(dat)\n",
    "\n",
    "# Assigns the return of the function to a variable\n",
    "dat = holding_data()\n",
    "# Writes the data frame to the CSV\n",
    "dat.to_csv('commodities.csv')\n",
    "print(dat.head(10))"
   ]
  },
  {
   "cell_type": "code",
   "execution_count": null,
   "id": "aa5fb413",
   "metadata": {},
   "outputs": [],
   "source": [
    "def holding_data(instrument='LCOc1', fields=[], start_year=2019, end_year=2020):\n",
    "    fields = ['CLOSE']\n",
    "dat, err = ek.get_data('AAPL.O',\n",
    "                       fields = fields,\n",
    "                       parameters={'SDate': '{}-01-01'.format(2019),\n",
    "                                   'EDate': '{}-12-31'.format(2020),\n",
    "                                   'Frq':'Q'}\n",
    "                       )\n"
   ]
  },
  {
   "cell_type": "code",
   "execution_count": null,
   "id": "2b8e3ac5",
   "metadata": {},
   "outputs": [],
   "source": [
    "data.info()"
   ]
  },
  {
   "cell_type": "code",
   "execution_count": null,
   "id": "82dbc59f",
   "metadata": {},
   "outputs": [],
   "source": [
    "data.plot(subplots = True, figsize = (15,10));"
   ]
  },
  {
   "cell_type": "code",
   "execution_count": null,
   "id": "978ca6df",
   "metadata": {},
   "outputs": [],
   "source": [
    "df = ek.get_timeseries([\"LCOc1\"], \n",
    "                       start_date=\"2022-03-10\",  \n",
    "                       end_date=\"2022-03-18\")\n",
    "df"
   ]
  },
  {
   "cell_type": "code",
   "execution_count": null,
   "id": "62e309fd",
   "metadata": {},
   "outputs": [],
   "source": [
    "df, err = ek.get_data(['LCOc1', 'CLc1'], \n",
    "                      ['CF_CLOSE'],\n",
    "                      {'Scale': 6, 'SDate': 0, 'EDate': -2, 'FRQ': 'FY', 'Curn': 'USD'})\n",
    "df"
   ]
  },
  {
   "cell_type": "code",
   "execution_count": null,
   "id": "505742c7",
   "metadata": {
    "scrolled": true
   },
   "outputs": [],
   "source": [
    "df, err = ek.get_data(['LCOc1', 'CLc1'], \n",
    "                      ['CF_CLOSE'],\n",
    "                      {'Scale': 6, 'SDate': 0, 'EDate': -2, 'FRQ': 'FY', 'Curn': 'EUR'})\n",
    "df"
   ]
  },
  {
   "cell_type": "code",
   "execution_count": null,
   "id": "856227ab",
   "metadata": {},
   "outputs": [],
   "source": [
    "def holding_data(instrument='AAPL.O', fields=[], start_year=2019, end_year=2020):\n",
    "    fields = ['CF_CLOSE']\n",
    "    \n"
   ]
  },
  {
   "cell_type": "code",
   "execution_count": null,
   "id": "3da41fae",
   "metadata": {},
   "outputs": [],
   "source": [
    "dat, err = ek.get_data('AAPL.O',\n",
    "                       fields = fields,\n",
    "                       parameters={'SDate': '{}-01-01'.format(2019),\n",
    "                                   'EDate': '{}-12-31'.format(2020),\n",
    "                                   'Frq':'D'}\n",
    "                       )\n",
    "\n",
    "\n",
    "dat['Date'] = pd.to_datetime(dat['Date'], format='%Y-%m-%d').dt.date # convert format to %Y-%m-%d\n",
    "\n",
    "dat = dat.sort_index() # sort Date in ascending order\n",
    "# data base containts weak data points: drop na's\n",
    "dat = dat.dropna() # I'm ambivalent about this...\n",
    "\n",
    "return(dat)"
   ]
  },
  {
   "cell_type": "code",
   "execution_count": null,
   "id": "088244b5",
   "metadata": {},
   "outputs": [],
   "source": []
  },
  {
   "cell_type": "markdown",
   "id": "e3cda115",
   "metadata": {},
   "source": [
    "Save Data in SQL Database (DB)"
   ]
  },
  {
   "cell_type": "code",
   "execution_count": null,
   "id": "9dcd0677",
   "metadata": {},
   "outputs": [],
   "source": [
    "#already created a DB in SQL Lite\n",
    "#insert the clean Data in the SQL DB: \"SQL_DB\" into the Table \"REFENITIV_DATA\":"
   ]
  },
  {
   "cell_type": "code",
   "execution_count": null,
   "id": "3642545f",
   "metadata": {},
   "outputs": [],
   "source": [
    "import sqlite3\n",
    "from sqlite3 import Error\n",
    " \n",
    "\"\"\" create a database connection tool to a SQLite database \"\"\"\n",
    "def create_connection(db_file):\n",
    "    conn = None\n",
    "    try:\n",
    "        conn = sqlite3.connect(db_file)\n",
    "        print(sqlite3.version)\n",
    "    except Error as e:\n",
    "        print(e)\n",
    "    finally:\n",
    "        if conn:\n",
    "            conn.close()\n",
    " \n",
    " \n",
    "if __name__ == '__main__':\n",
    "    create_connection(r\"C:\\Users\\lione\\OneDrive\\Dokumente\\GitHub\\AQM\\SQL_DB.db\")"
   ]
  },
  {
   "cell_type": "code",
   "execution_count": null,
   "id": "8e87f2c6",
   "metadata": {},
   "outputs": [],
   "source": [
    "conn = sqlite3.connect(r\"C:\\Users\\lione\\OneDrive\\Dokumente\\GitHub\\AQM\\SQL_DB.db\")\n",
    "\n",
    "#Add single Data in Table:\n",
    "conn.execute(\"INSERT INTO REFINITIV_DATA(ID,NAME,AGE,ADDRESS,SALARY) VALUES (1, 'Paul', 32, 'California', 20000.00)\");\n",
    "conn.commit()\n",
    "\n",
    "#Add all Data at once:\n",
    "c = conn.cursor()\n",
    "c.executemany(\"INSERT INTO Inflation_data(CPIAUCSL,WTISPLC,T5YIFRM,DATE) VALUES (?,?,?,?)\", records_to_insert)    \n",
    "conn.commit()"
   ]
  },
  {
   "cell_type": "code",
   "execution_count": null,
   "id": "7e665f64",
   "metadata": {},
   "outputs": [],
   "source": [
    "#Let's now select the data from the database and pull them to python \n",
    "c = conn.cursor()\n",
    "c.execute(\"SELECT * FROM REFINITIV_DATA\")\n",
    "#c.execute(\"SELECT * FROM INSTRUMENT\")\n",
    "#c.execute(\"SELECT * FROM RESULTS\")\n",
    "new_data=c.fetchall()\n",
    "new_data"
   ]
  },
  {
   "cell_type": "code",
   "execution_count": null,
   "id": "893e3411",
   "metadata": {},
   "outputs": [],
   "source": []
  },
  {
   "cell_type": "markdown",
   "id": "12973b69",
   "metadata": {},
   "source": []
  },
  {
   "cell_type": "code",
   "execution_count": null,
   "id": "04a10520",
   "metadata": {},
   "outputs": [],
   "source": []
  }
 ],
 "metadata": {
  "kernelspec": {
   "display_name": "Python 3",
   "language": "python",
   "name": "python3"
  },
  "language_info": {
   "codemirror_mode": {
    "name": "ipython",
    "version": 3
   },
   "file_extension": ".py",
   "mimetype": "text/x-python",
   "name": "python",
   "nbconvert_exporter": "python",
   "pygments_lexer": "ipython3",
   "version": "3.8.3"
  }
 },
 "nbformat": 4,
 "nbformat_minor": 5
}
