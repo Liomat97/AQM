{
 "cells": [
  {
   "cell_type": "markdown",
   "id": "c60dfa7e",
   "metadata": {},
   "source": [
    "Ablauf:\n",
    "Fiel \"AQM_import_API\"\n",
    "1. Import Data via API from Refinitiv to Jupiter Notebook\n",
    "    - 10 Commodities 10 Years\n",
    "    - Download monthly data for at least 10 asset prices and at least 10 macroeconomic variables, across countries\n",
    "\n",
    "2. Create DataFrame, check Data and clean Data if needed:\n",
    "    - N/A\n",
    "    - Sprünge?\n",
    "    - Format?\n",
    "3. Save clean Data in SQL Lite in DB\n",
    "\n",
    "\n",
    "Zuerst den Code für 1 Kombination schreiben. Danach ein Loop generieren.\n",
    "\n",
    "File \"AQM_Analyse\":\n",
    "1. Import the clean Data from SQL DB into Notebook\n",
    "2. Prepare Data for Analysis\n",
    "3. Create Dataframe to save the Results\n",
    "4. Create Loop, which executes multivariate OLS regressions using all combinations of 1 and 10 explanatory macroeconomic variables \n",
    "5. Save the Results from the Loop into the \"Result\"-Dataframe\n",
    "    For each Regression calculate:\n",
    "        Autocorrelation\n",
    "        heteroskedasticity\n",
    "        multicollinearity\n",
    "6. Export Results to SQL Lite into Table \"Results\"\n",
    "\n",
    "Todo:\n",
    "- Direkt von API in Dataframe und danach in SQL ohne Excel\n",
    "- Excel workaround sauber fertig machen"
   ]
  },
  {
   "cell_type": "code",
   "execution_count": 1,
   "id": "825a06e7",
   "metadata": {},
   "outputs": [
    {
     "name": "stderr",
     "output_type": "stream",
     "text": [
      "2022-04-04 11:26:52,996 P[27992] [MainThread 25680] Error: no proxy address identified.\n",
      "Check if Eikon Desktop or Eikon API Proxy is running.\n",
      "2022-04-04 11:26:52,998 P[27992] [MainThread 25680] Error on handshake url http://127.0.0.1:None/api/handshake : UnsupportedProtocol(\"Request URL missing either an 'http://' or 'https://' protocol.\")\n",
      "2022-04-04 11:26:52,999 P[27992] [MainThread 25680] Error on handshake url http://127.0.0.1:None/api/handshake : UnsupportedProtocol(\"Request URL missing either an 'http://' or 'https://' protocol.\")\n",
      "2022-04-04 11:26:53,000 P[27992] [MainThread 25680] Port number was not identified, cannot send any request\n"
     ]
    }
   ],
   "source": [
    "import pandas as pd\n",
    "import numpy as np\n",
    "\n",
    "import scipy\n",
    "from scipy import stats\n",
    "import statsmodels as sm\n",
    "from statsmodels.regression.linear_model import OLS\n",
    "\n",
    "import matplotlib.pyplot as plt\n",
    "from mpl_toolkits.mplot3d import Axes3D\n",
    "%matplotlib inline\n",
    "\n",
    "\n",
    "from datetime import datetime\n",
    "import time\n",
    "import datetime\n",
    "\n",
    "import eikon as ek\n",
    "creds = 'd505f265d9bd4c0cb7df44481ece31a0ad8d1974'\n",
    "#API Key Lionel: d505f265d9bd4c0cb7df44481ece31a0ad8d1974\n",
    "#API Key Raphi: f5a341b614d945b9b93a71fe53348ba119d11e99\n",
    "#API Key Laurin:\n",
    "ek.set_app_key(creds)\n"
   ]
  },
  {
   "cell_type": "code",
   "execution_count": null,
   "id": "949f6e1f",
   "metadata": {},
   "outputs": [],
   "source": [
    "#Define the Future Contracts\n",
    "Futures = ['CLc1',      #NYMEX Light Sweet Crude Oil (WTI)\n",
    "           'NGLNMc1',   #Intercontinetanl Exchange UK NBP Natrual Gas\n",
    "           'NGc1',      #NYMEX Henry Hub Natural Gas\n",
    "           'GCc1',      #COMEX Gold\n",
    "           'SIc1',      #COMEX Silver\n",
    "           'PLc1',      #NYM Platinum\n",
    "           'PAc1',      #CYM Palladium\n",
    "           'Wc1',       #CBoT Wheat\n",
    "           'Cc1',       #CBoT Corn\n",
    "           'LCc1',      #CME Live Cattle\n",
    "           'OJc1'       #ICE Orange Juice\n",
    "          ]"
   ]
  },
  {
   "cell_type": "code",
   "execution_count": null,
   "id": "f39fda41",
   "metadata": {},
   "outputs": [],
   "source": [
    "data_all = pd.DataFrame()\n",
    "try:\n",
    "    ek.set_app_key('f5a341b614d945b9b93a71fe53348ba119d11e99')\n",
    "    itemName=Futures\n",
    "    dateStart=\"2012-01-01\"\n",
    "    dateEnd=\"2022-01-01\"\n",
    "\n",
    "    #Create Loop to inport all Futures:\n",
    "    for y in range(0,len(Futures)):\n",
    "        data_input = ek.get_timeseries(Futures[y],fields=[\"Close\"], start_date = dateStart , \n",
    "                                    end_date = dateEnd , interval='monthly', corax = 'adjusted' )\n",
    "        data_input['Instrument'] = Futures[y]\n",
    "        data_all = data_all.append(data_input)\n",
    "except ek.EikonError as ex:\n",
    "    print('Eikon Error')\n",
    "    print(ex)\n",
    "except Exception as ex:\n",
    "    print(ex)\n",
    "\n",
    "data_all"
   ]
  },
  {
   "cell_type": "code",
   "execution_count": null,
   "id": "b053ebdd",
   "metadata": {},
   "outputs": [],
   "source": [
    "data_all['Return'] = np.log(data_all.CLOSE) - np.log(data_all.CLOSE.shift(1))\n",
    "data_all = data_all.reset_index()\n",
    "data_all['Date'] = pd.to_datetime(data_all['Date']).dt.date\n",
    "liste_SQL = data_all.values.tolist()\n",
    "data_all"
   ]
  },
  {
   "cell_type": "markdown",
   "id": "e3cda115",
   "metadata": {},
   "source": [
    "Save Data in SQL Database (DB)"
   ]
  },
  {
   "cell_type": "code",
   "execution_count": null,
   "id": "3cc2f1b8",
   "metadata": {},
   "outputs": [],
   "source": [
    "import sqlite3\n",
    "from sqlite3 import Error\n",
    " \n",
    "\"\"\" create a database connection tool to a SQLite database \"\"\"\n",
    "def create_connection(db_file):\n",
    "    conn = None\n",
    "    try:\n",
    "        conn = sqlite3.connect(db_file)\n",
    "        print(sqlite3.version)\n",
    "    except Error as e:\n",
    "        print(e)\n",
    "    finally:\n",
    "        if conn:\n",
    "            conn.close()\n",
    "\n",
    "if __name__ == '__main__':\n",
    "    create_connection(r\"C:\\Users\\lione\\OneDrive\\Dokumente\\GitHub\\AQM\\SQL_DB.db\")"
   ]
  },
  {
   "cell_type": "code",
   "execution_count": null,
   "id": "b6d04eb8",
   "metadata": {},
   "outputs": [],
   "source": [
    "conn = sqlite3.connect('SQL_DB.db')\n",
    "c = conn.cursor()\n",
    "c.execute('''DROP TABLE IF EXISTS COMMODITIES_RETURNS;''')"
   ]
  },
  {
   "cell_type": "code",
   "execution_count": null,
   "id": "39ba9f62",
   "metadata": {},
   "outputs": [],
   "source": [
    "conn = sqlite3.connect('SQL_DB.db')\n",
    "c = conn.cursor()\n",
    "c.execute('''CREATE TABLE COMMODITIES_RETURNS (\n",
    "    DATE DATETIME,\n",
    "\t\"CLOSE\" NUMERIC,\n",
    "    \"Instrument\" TEXT,\n",
    "    \"Return\" NUMERIC\n",
    ");''')\n"
   ]
  },
  {
   "cell_type": "code",
   "execution_count": null,
   "id": "c4f95686",
   "metadata": {},
   "outputs": [],
   "source": [
    "conn = sqlite3.connect(r\"C:\\Users\\lione\\OneDrive\\Dokumente\\GitHub\\AQM\\SQL_DB.db\")\n",
    "#Add all Data at once:\n",
    "c = conn.cursor()\n",
    "c.executemany(\"INSERT INTO COMMODITIES_RETURNS(DATE, CLOSE, Instrument, Return) VALUES (?,?,?,?)\", liste_SQL)    \n",
    "conn.commit()\n"
   ]
  },
  {
   "cell_type": "code",
   "execution_count": null,
   "id": "059746d2",
   "metadata": {},
   "outputs": [],
   "source": [
    "#Select Data from SQL DB:   \n",
    "c = conn.cursor()\n",
    "c.execute(\"SELECT * FROM COMMODITIES_RETURNS\")\n",
    "new_data=c.fetchall()\n",
    "ref_data = pd.DataFrame(new_data,columns=['DATE', 'CLOSE', 'Instrument', 'Return'])\n",
    "ref_data = ref_data.set_index('DATE')\n",
    "ref_data"
   ]
  },
  {
   "cell_type": "code",
   "execution_count": null,
   "id": "90aa6579",
   "metadata": {},
   "outputs": [],
   "source": [
    "Comm_returns = ref_data.pivot(columns='Instrument', values=['Return'])\n",
    "Comm_returns.to_excel('Commodities_returns.xlsx')\n",
    "Comm_returns"
   ]
  },
  {
   "cell_type": "code",
   "execution_count": null,
   "id": "a2de144b",
   "metadata": {},
   "outputs": [],
   "source": [
    "Comm_returns.describe()"
   ]
  }
 ],
 "metadata": {
  "kernelspec": {
   "display_name": "Python 3",
   "language": "python",
   "name": "python3"
  },
  "language_info": {
   "codemirror_mode": {
    "name": "ipython",
    "version": 3
   },
   "file_extension": ".py",
   "mimetype": "text/x-python",
   "name": "python",
   "nbconvert_exporter": "python",
   "pygments_lexer": "ipython3",
   "version": "3.8.3"
  }
 },
 "nbformat": 4,
 "nbformat_minor": 5
}
