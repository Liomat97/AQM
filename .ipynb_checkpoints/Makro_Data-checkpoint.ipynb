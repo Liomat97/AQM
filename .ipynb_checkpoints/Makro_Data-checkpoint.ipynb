{
 "cells": [
  {
   "cell_type": "markdown",
   "id": "a34e1c70",
   "metadata": {},
   "source": [
    "GDP / unemployment rate / Inflation (CPI) / purchasing manager index (PMI)"
   ]
  },
  {
   "cell_type": "markdown",
   "id": "aa3109c3",
   "metadata": {},
   "source": [
    "US / Eurozone / CH "
   ]
  },
  {
   "cell_type": "code",
   "execution_count": null,
   "id": "c2fe0182",
   "metadata": {},
   "outputs": [],
   "source": [
    "Makro_Data = ['USGDPF=ECI', #US GDP   -     Nur Quartal\n",
    "              'USUNR=ECI',  #US Unemploymet\n",
    "              'USCPI=ECI',  #US CPI\n",
    "              'USPMI=ECI',  #US PMI\n",
    "              \n",
    "              'EUGDPY=ECI', #EU GDP   -   Nur Quartal\n",
    "              'EUUNR=ECI',  #EU Unemployment\n",
    "              'EUHICY=ECI', #EU CPI\n",
    "              'EUPMI=ECI',  #EU PMI\n",
    "              \n",
    "              'CHGDP=ECI',  #CH GDP\n",
    "              'CHJOB=ECI',  #CH Unemployment\n",
    "              'CHCPIY=ECI', #CH CPI\n",
    "              'CHPMI=ECI']  #CH PMI"
   ]
  },
  {
   "cell_type": "code",
   "execution_count": null,
   "id": "b2d4c681",
   "metadata": {},
   "outputs": [],
   "source": []
  },
  {
   "cell_type": "code",
   "execution_count": null,
   "id": "25e0face",
   "metadata": {},
   "outputs": [],
   "source": []
  }
 ],
 "metadata": {
  "kernelspec": {
   "display_name": "Python 3",
   "language": "python",
   "name": "python3"
  },
  "language_info": {
   "codemirror_mode": {
    "name": "ipython",
    "version": 3
   },
   "file_extension": ".py",
   "mimetype": "text/x-python",
   "name": "python",
   "nbconvert_exporter": "python",
   "pygments_lexer": "ipython3",
   "version": "3.8.8"
  }
 },
 "nbformat": 4,
 "nbformat_minor": 5
}
