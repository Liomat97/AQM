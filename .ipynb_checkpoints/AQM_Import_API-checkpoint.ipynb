{
 "cells": [
  {
   "cell_type": "code",
   "execution_count": 3,
   "id": "825a06e7",
   "metadata": {},
   "outputs": [],
   "source": [
    "import math\n",
    "import pandas as pd\n",
    "import numpy as np\n",
    "import matplotlib.pyplot as plt\n",
    "from mpl_toolkits.mplot3d import Axes3D\n",
    "\n",
    "import scipy\n",
    "import seaborn as sns\n",
    "import xlsxwriter\n",
    "\n",
    "import math\n",
    "from math import exp, sqrt, log\n",
    "\n",
    "%matplotlib inline\n",
    "\n",
    "from scipy import stats\n",
    "\n",
    "import statsmodels as sm\n",
    "from statsmodels.regression.linear_model import OLS\n",
    "\n",
    "import eikon as ek\n",
    "\n",
    "import datetime\n",
    "\n",
    "creds = 'f5a341b614d945b9b93a71fe53348ba119d11e99'\n",
    "ek.set_app_key(creds)"
   ]
  },
  {
   "cell_type": "code",
   "execution_count": 28,
   "id": "949f6e1f",
   "metadata": {},
   "outputs": [],
   "source": [
    "#Define the Future Contracts\n",
    "\n",
    "Futures = ['LCOc1',     #ICE Europe Brent Crude \n",
    "           'CLc1',      #NYMEX Light Sweet Crude Oil (WTI)\n",
    "           'NGLNMc1',   #Intercontinetanl Exchange UK NBP Natrual Gas\n",
    "           'NGc1',      #NYMEX Henry Hub Natural Gas\n",
    "           'GCc1',      #COMEX Gold\n",
    "           'SIc1',      #COMEX Silver\n",
    "           'PLc1',      #NYM Platinum\n",
    "           'PAc1',      #CYM Palladium\n",
    "           'Wc1',       #CBoT Wheat\n",
    "           'Cc1',       #CBoT Corn\n",
    "           'LCc1',      #CME Live Cattle\n",
    "           'OJc1'       #ICE Orange Juice\n",
    "          ]"
   ]
  },
  {
   "cell_type": "code",
   "execution_count": 29,
   "id": "24a76264",
   "metadata": {
    "scrolled": true
   },
   "outputs": [
    {
     "data": {
      "text/html": [
       "<div>\n",
       "<style scoped>\n",
       "    .dataframe tbody tr th:only-of-type {\n",
       "        vertical-align: middle;\n",
       "    }\n",
       "\n",
       "    .dataframe tbody tr th {\n",
       "        vertical-align: top;\n",
       "    }\n",
       "\n",
       "    .dataframe thead th {\n",
       "        text-align: right;\n",
       "    }\n",
       "</style>\n",
       "<table border=\"1\" class=\"dataframe\">\n",
       "  <thead>\n",
       "    <tr style=\"text-align: right;\">\n",
       "      <th>CLOSE</th>\n",
       "      <th>LCOc1</th>\n",
       "      <th>CLc1</th>\n",
       "      <th>NGLNMc1</th>\n",
       "    </tr>\n",
       "    <tr>\n",
       "      <th>Date</th>\n",
       "      <th></th>\n",
       "      <th></th>\n",
       "      <th></th>\n",
       "    </tr>\n",
       "  </thead>\n",
       "  <tbody>\n",
       "    <tr>\n",
       "      <th>2018-04-03</th>\n",
       "      <td>&lt;NA&gt;</td>\n",
       "      <td>63.51</td>\n",
       "      <td>&lt;NA&gt;</td>\n",
       "    </tr>\n",
       "    <tr>\n",
       "      <th>2018-04-04</th>\n",
       "      <td>&lt;NA&gt;</td>\n",
       "      <td>63.37</td>\n",
       "      <td>&lt;NA&gt;</td>\n",
       "    </tr>\n",
       "    <tr>\n",
       "      <th>2018-04-05</th>\n",
       "      <td>&lt;NA&gt;</td>\n",
       "      <td>63.54</td>\n",
       "      <td>&lt;NA&gt;</td>\n",
       "    </tr>\n",
       "    <tr>\n",
       "      <th>2018-04-06</th>\n",
       "      <td>&lt;NA&gt;</td>\n",
       "      <td>62.06</td>\n",
       "      <td>&lt;NA&gt;</td>\n",
       "    </tr>\n",
       "    <tr>\n",
       "      <th>2018-04-09</th>\n",
       "      <td>&lt;NA&gt;</td>\n",
       "      <td>63.42</td>\n",
       "      <td>&lt;NA&gt;</td>\n",
       "    </tr>\n",
       "    <tr>\n",
       "      <th>...</th>\n",
       "      <td>...</td>\n",
       "      <td>...</td>\n",
       "      <td>...</td>\n",
       "    </tr>\n",
       "    <tr>\n",
       "      <th>2022-03-14</th>\n",
       "      <td>106.9</td>\n",
       "      <td>103.01</td>\n",
       "      <td>270.92</td>\n",
       "    </tr>\n",
       "    <tr>\n",
       "      <th>2022-03-15</th>\n",
       "      <td>99.91</td>\n",
       "      <td>96.44</td>\n",
       "      <td>274.4</td>\n",
       "    </tr>\n",
       "    <tr>\n",
       "      <th>2022-03-16</th>\n",
       "      <td>98.02</td>\n",
       "      <td>95.04</td>\n",
       "      <td>240.81</td>\n",
       "    </tr>\n",
       "    <tr>\n",
       "      <th>2022-03-17</th>\n",
       "      <td>106.64</td>\n",
       "      <td>102.98</td>\n",
       "      <td>249.78</td>\n",
       "    </tr>\n",
       "    <tr>\n",
       "      <th>2022-03-18</th>\n",
       "      <td>107.93</td>\n",
       "      <td>104.7</td>\n",
       "      <td>246.0</td>\n",
       "    </tr>\n",
       "  </tbody>\n",
       "</table>\n",
       "<p>1025 rows × 3 columns</p>\n",
       "</div>"
      ],
      "text/plain": [
       "CLOSE        LCOc1    CLc1  NGLNMc1\n",
       "Date                               \n",
       "2018-04-03    <NA>   63.51     <NA>\n",
       "2018-04-04    <NA>   63.37     <NA>\n",
       "2018-04-05    <NA>   63.54     <NA>\n",
       "2018-04-06    <NA>   62.06     <NA>\n",
       "2018-04-09    <NA>   63.42     <NA>\n",
       "...            ...     ...      ...\n",
       "2022-03-14   106.9  103.01   270.92\n",
       "2022-03-15   99.91   96.44    274.4\n",
       "2022-03-16   98.02   95.04   240.81\n",
       "2022-03-17  106.64  102.98   249.78\n",
       "2022-03-18  107.93   104.7    246.0\n",
       "\n",
       "[1025 rows x 3 columns]"
      ]
     },
     "execution_count": 29,
     "metadata": {},
     "output_type": "execute_result"
    }
   ],
   "source": [
    "#Get the Close Prices of the futures\n",
    "\n",
    "\n",
    "\n",
    "data = ek.get_timeseries(Futures,\n",
    "                        start_date = '2012-01-01',\n",
    "                        end_date = '2022-03-18',\n",
    "                        fields = 'CLOSE',\n",
    "                        interval = 'daily'\n",
    "                        )\n",
    "\n",
    "#data['Date'] = pd.to_datetime(data['Date'], format='%Y-%m-%d').dt.date # convert format to %Y-%m-%d\n",
    "\n",
    "data"
   ]
  },
  {
   "cell_type": "code",
   "execution_count": null,
   "id": "aa5fb413",
   "metadata": {},
   "outputs": [],
   "source": [
    "def holding_data(instrument='LCOc1', fields=[], start_year=2019, end_year=2020):\n",
    "    fields = ['CLOSE']\n",
    "dat, err = ek.get_data('AAPL.O',\n",
    "                       fields = fields,\n",
    "                       parameters={'SDate': '{}-01-01'.format(2019),\n",
    "                                   'EDate': '{}-12-31'.format(2020),\n",
    "                                   'Frq':'Q'}\n",
    "                       )\n"
   ]
  },
  {
   "cell_type": "code",
   "execution_count": null,
   "id": "b464402a",
   "metadata": {},
   "outputs": [],
   "source": []
  },
  {
   "cell_type": "code",
   "execution_count": 21,
   "id": "2b8e3ac5",
   "metadata": {},
   "outputs": [
    {
     "name": "stdout",
     "output_type": "stream",
     "text": [
      "<class 'pandas.core.frame.DataFrame'>\n",
      "DatetimeIndex: 2637 entries, 2012-01-03 to 2022-03-18\n",
      "Data columns (total 1 columns):\n",
      " #   Column  Non-Null Count  Dtype  \n",
      "---  ------  --------------  -----  \n",
      " 0   CLOSE   2637 non-null   Float64\n",
      "dtypes: Float64(1)\n",
      "memory usage: 43.8 KB\n"
     ]
    }
   ],
   "source": [
    "data.info()"
   ]
  },
  {
   "cell_type": "code",
   "execution_count": 22,
   "id": "82dbc59f",
   "metadata": {},
   "outputs": [
    {
     "data": {
      "image/png": "[encoded data removed]",
      "text/plain": [
       "<Figure size 1080x720 with 1 Axes>"
      ]
     },
     "metadata": {
      "needs_background": "light"
     },
     "output_type": "display_data"
    }
   ],
   "source": [
    "data.plot(subplots = True, figsize = (15,10));"
   ]
  },
  {
   "cell_type": "code",
   "execution_count": null,
   "id": "9e79f75b",
   "metadata": {},
   "outputs": [],
   "source": []
  },
  {
   "cell_type": "code",
   "execution_count": null,
   "id": "596b59a0",
   "metadata": {},
   "outputs": [],
   "source": []
  },
  {
   "cell_type": "code",
   "execution_count": 7,
   "id": "978ca6df",
   "metadata": {},
   "outputs": [
    {
     "data": {
      "text/html": [
       "<div>\n",
       "<style scoped>\n",
       "    .dataframe tbody tr th:only-of-type {\n",
       "        vertical-align: middle;\n",
       "    }\n",
       "\n",
       "    .dataframe tbody tr th {\n",
       "        vertical-align: top;\n",
       "    }\n",
       "\n",
       "    .dataframe thead th {\n",
       "        text-align: right;\n",
       "    }\n",
       "</style>\n",
       "<table border=\"1\" class=\"dataframe\">\n",
       "  <thead>\n",
       "    <tr style=\"text-align: right;\">\n",
       "      <th>LCOc1</th>\n",
       "      <th>HIGH</th>\n",
       "      <th>LOW</th>\n",
       "      <th>OPEN</th>\n",
       "      <th>CLOSE</th>\n",
       "      <th>VOLUME</th>\n",
       "    </tr>\n",
       "    <tr>\n",
       "      <th>Date</th>\n",
       "      <th></th>\n",
       "      <th></th>\n",
       "      <th></th>\n",
       "      <th></th>\n",
       "      <th></th>\n",
       "    </tr>\n",
       "  </thead>\n",
       "  <tbody>\n",
       "    <tr>\n",
       "      <th>2022-03-10</th>\n",
       "      <td>118.36</td>\n",
       "      <td>109.0</td>\n",
       "      <td>112.65</td>\n",
       "      <td>109.33</td>\n",
       "      <td>352338</td>\n",
       "    </tr>\n",
       "    <tr>\n",
       "      <th>2022-03-11</th>\n",
       "      <td>113.91</td>\n",
       "      <td>107.13</td>\n",
       "      <td>110.26</td>\n",
       "      <td>112.67</td>\n",
       "      <td>287385</td>\n",
       "    </tr>\n",
       "    <tr>\n",
       "      <th>2022-03-14</th>\n",
       "      <td>113.15</td>\n",
       "      <td>103.49</td>\n",
       "      <td>113.15</td>\n",
       "      <td>106.9</td>\n",
       "      <td>265914</td>\n",
       "    </tr>\n",
       "    <tr>\n",
       "      <th>2022-03-15</th>\n",
       "      <td>105.71</td>\n",
       "      <td>97.44</td>\n",
       "      <td>105.34</td>\n",
       "      <td>99.91</td>\n",
       "      <td>318121</td>\n",
       "    </tr>\n",
       "    <tr>\n",
       "      <th>2022-03-16</th>\n",
       "      <td>103.7</td>\n",
       "      <td>96.93</td>\n",
       "      <td>99.14</td>\n",
       "      <td>98.02</td>\n",
       "      <td>246821</td>\n",
       "    </tr>\n",
       "    <tr>\n",
       "      <th>2022-03-17</th>\n",
       "      <td>107.5</td>\n",
       "      <td>97.75</td>\n",
       "      <td>98.61</td>\n",
       "      <td>106.64</td>\n",
       "      <td>200947</td>\n",
       "    </tr>\n",
       "    <tr>\n",
       "      <th>2022-03-18</th>\n",
       "      <td>109.59</td>\n",
       "      <td>105.78</td>\n",
       "      <td>106.8</td>\n",
       "      <td>107.93</td>\n",
       "      <td>168906</td>\n",
       "    </tr>\n",
       "  </tbody>\n",
       "</table>\n",
       "</div>"
      ],
      "text/plain": [
       "LCOc1         HIGH     LOW    OPEN   CLOSE  VOLUME\n",
       "Date                                              \n",
       "2022-03-10  118.36   109.0  112.65  109.33  352338\n",
       "2022-03-11  113.91  107.13  110.26  112.67  287385\n",
       "2022-03-14  113.15  103.49  113.15   106.9  265914\n",
       "2022-03-15  105.71   97.44  105.34   99.91  318121\n",
       "2022-03-16   103.7   96.93   99.14   98.02  246821\n",
       "2022-03-17   107.5   97.75   98.61  106.64  200947\n",
       "2022-03-18  109.59  105.78   106.8  107.93  168906"
      ]
     },
     "execution_count": 7,
     "metadata": {},
     "output_type": "execute_result"
    }
   ],
   "source": [
    "df = ek.get_timeseries([\"LCOc1\"], \n",
    "                       start_date=\"2022-03-10\",  \n",
    "                       end_date=\"2022-03-18\")\n",
    "df"
   ]
  },
  {
   "cell_type": "code",
   "execution_count": 12,
   "id": "62e309fd",
   "metadata": {},
   "outputs": [
    {
     "data": {
      "text/html": [
       "<div>\n",
       "<style scoped>\n",
       "    .dataframe tbody tr th:only-of-type {\n",
       "        vertical-align: middle;\n",
       "    }\n",
       "\n",
       "    .dataframe tbody tr th {\n",
       "        vertical-align: top;\n",
       "    }\n",
       "\n",
       "    .dataframe thead th {\n",
       "        text-align: right;\n",
       "    }\n",
       "</style>\n",
       "<table border=\"1\" class=\"dataframe\">\n",
       "  <thead>\n",
       "    <tr style=\"text-align: right;\">\n",
       "      <th></th>\n",
       "      <th>Instrument</th>\n",
       "      <th>CF_CLOSE</th>\n",
       "    </tr>\n",
       "  </thead>\n",
       "  <tbody>\n",
       "    <tr>\n",
       "      <th>0</th>\n",
       "      <td>LCOc1</td>\n",
       "      <td>107.93</td>\n",
       "    </tr>\n",
       "    <tr>\n",
       "      <th>1</th>\n",
       "      <td>CLc1</td>\n",
       "      <td>102.98</td>\n",
       "    </tr>\n",
       "  </tbody>\n",
       "</table>\n",
       "</div>"
      ],
      "text/plain": [
       "  Instrument  CF_CLOSE\n",
       "0      LCOc1    107.93\n",
       "1       CLc1    102.98"
      ]
     },
     "execution_count": 12,
     "metadata": {},
     "output_type": "execute_result"
    }
   ],
   "source": [
    "df, err = ek.get_data(['LCOc1', 'CLc1'], \n",
    "                      ['CF_CLOSE'],\n",
    "                      {'Scale': 6, 'SDate': 0, 'EDate': -2, 'FRQ': 'FY', 'Curn': 'USD'})\n",
    "df"
   ]
  },
  {
   "cell_type": "code",
   "execution_count": 13,
   "id": "505742c7",
   "metadata": {
    "scrolled": true
   },
   "outputs": [
    {
     "data": {
      "text/html": [
       "<div>\n",
       "<style scoped>\n",
       "    .dataframe tbody tr th:only-of-type {\n",
       "        vertical-align: middle;\n",
       "    }\n",
       "\n",
       "    .dataframe tbody tr th {\n",
       "        vertical-align: top;\n",
       "    }\n",
       "\n",
       "    .dataframe thead th {\n",
       "        text-align: right;\n",
       "    }\n",
       "</style>\n",
       "<table border=\"1\" class=\"dataframe\">\n",
       "  <thead>\n",
       "    <tr style=\"text-align: right;\">\n",
       "      <th></th>\n",
       "      <th>Instrument</th>\n",
       "      <th>CF_CLOSE</th>\n",
       "    </tr>\n",
       "  </thead>\n",
       "  <tbody>\n",
       "    <tr>\n",
       "      <th>0</th>\n",
       "      <td>LCOc1</td>\n",
       "      <td>107.93</td>\n",
       "    </tr>\n",
       "    <tr>\n",
       "      <th>1</th>\n",
       "      <td>CLc1</td>\n",
       "      <td>102.98</td>\n",
       "    </tr>\n",
       "  </tbody>\n",
       "</table>\n",
       "</div>"
      ],
      "text/plain": [
       "  Instrument  CF_CLOSE\n",
       "0      LCOc1    107.93\n",
       "1       CLc1    102.98"
      ]
     },
     "execution_count": 13,
     "metadata": {},
     "output_type": "execute_result"
    }
   ],
   "source": [
    "df, err = ek.get_data(['LCOc1', 'CLc1'], \n",
    "                      ['CF_CLOSE'],\n",
    "                      {'Scale': 6, 'SDate': 0, 'EDate': -2, 'FRQ': 'FY', 'Curn': 'EUR'})\n",
    "df"
   ]
  },
  {
   "cell_type": "code",
   "execution_count": 20,
   "id": "856227ab",
   "metadata": {},
   "outputs": [],
   "source": [
    "def holding_data(instrument='AAPL.O', fields=[], start_year=2019, end_year=2020):\n",
    "    fields = ['CF_CLOSE']\n",
    "    \n"
   ]
  },
  {
   "cell_type": "code",
   "execution_count": 21,
   "id": "3da41fae",
   "metadata": {},
   "outputs": [
    {
     "ename": "NameError",
     "evalue": "name 'fields' is not defined",
     "output_type": "error",
     "traceback": [
      "\u001b[1;31m---------------------------------------------------------------------------\u001b[0m",
      "\u001b[1;31mNameError\u001b[0m                                 Traceback (most recent call last)",
      "\u001b[1;32m<ipython-input-21-2cc71d900c46>\u001b[0m in \u001b[0;36m<module>\u001b[1;34m\u001b[0m\n\u001b[0;32m      1\u001b[0m dat, err = ek.get_data('AAPL.O',\n\u001b[1;32m----> 2\u001b[1;33m                        \u001b[0mfields\u001b[0m \u001b[1;33m=\u001b[0m \u001b[0mfields\u001b[0m\u001b[1;33m,\u001b[0m\u001b[1;33m\u001b[0m\u001b[1;33m\u001b[0m\u001b[0m\n\u001b[0m\u001b[0;32m      3\u001b[0m                        parameters={'SDate': '{}-01-01'.format(2019),\n\u001b[0;32m      4\u001b[0m                                    \u001b[1;34m'EDate'\u001b[0m\u001b[1;33m:\u001b[0m \u001b[1;34m'{}-12-31'\u001b[0m\u001b[1;33m.\u001b[0m\u001b[0mformat\u001b[0m\u001b[1;33m(\u001b[0m\u001b[1;36m2020\u001b[0m\u001b[1;33m)\u001b[0m\u001b[1;33m,\u001b[0m\u001b[1;33m\u001b[0m\u001b[1;33m\u001b[0m\u001b[0m\n\u001b[0;32m      5\u001b[0m                                    'Frq':'Q'}\n",
      "\u001b[1;31mNameError\u001b[0m: name 'fields' is not defined"
     ]
    }
   ],
   "source": [
    "dat, err = ek.get_data('AAPL.O',\n",
    "                       fields = fields,\n",
    "                       parameters={'SDate': '{}-01-01'.format(2019),\n",
    "                                   'EDate': '{}-12-31'.format(2020),\n",
    "                                   'Frq':'D'}\n",
    "                       )\n",
    "\n",
    "\n",
    "dat['Date'] = pd.to_datetime(dat['Date'], format='%Y-%m-%d').dt.date # convert format to %Y-%m-%d\n",
    "\n",
    "dat = dat.sort_index() # sort Date in ascending order\n",
    "# data base containts weak data points: drop na's\n",
    "dat = dat.dropna() # I'm ambivalent about this...\n",
    "\n",
    "return(dat)"
   ]
  },
  {
   "cell_type": "code",
   "execution_count": null,
   "id": "088244b5",
   "metadata": {},
   "outputs": [],
   "source": []
  }
 ],
 "metadata": {
  "kernelspec": {
   "display_name": "Python 3",
   "language": "python",
   "name": "python3"
  },
  "language_info": {
   "codemirror_mode": {
    "name": "ipython",
    "version": 3
   },
   "file_extension": ".py",
   "mimetype": "text/x-python",
   "name": "python",
   "nbconvert_exporter": "python",
   "pygments_lexer": "ipython3",
   "version": "3.8.8"
  }
 },
 "nbformat": 4,
 "nbformat_minor": 5
}
