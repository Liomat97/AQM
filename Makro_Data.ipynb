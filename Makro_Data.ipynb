{
 "cells": [
  {
   "cell_type": "code",
   "execution_count": null,
   "id": "85b8ccd7",
   "metadata": {},
   "outputs": [],
   "source": [
    "import pandas as pd\n",
    "import numpy as np\n",
    "\n",
    "import scipy\n",
    "from scipy import stats\n",
    "import statsmodels as sm\n",
    "from statsmodels.regression.linear_model import OLS\n",
    "\n",
    "import matplotlib.pyplot as plt\n",
    "from mpl_toolkits.mplot3d import Axes3D\n",
    "%matplotlib inline\n",
    "\n",
    "\n",
    "from datetime import datetime\n",
    "import time\n",
    "import datetime\n",
    "\n",
    "import eikon as ek\n",
    "#creds = 'f5a341b614d945b9b93a71fe53348ba119d11e99'\n",
    "#API Key Lionel: d505f265d9bd4c0cb7df44481ece31a0ad8d1974\n",
    "#API Key Raphi: f5a341b614d945b9b93a71fe53348ba119d11e99\n",
    "#API Key Laurin:\n",
    "ek.set_app_key('d505f265d9bd4c0cb7df44481ece31a0ad8d1974')"
   ]
  },
  {
   "cell_type": "markdown",
   "id": "60d8cc04",
   "metadata": {},
   "source": [
    "GDP nicht nehmen, da nur Quartal / unemployment rate / Inflation (CPI) / purchasing manager index (PMI)"
   ]
  },
  {
   "cell_type": "markdown",
   "id": "64a53719",
   "metadata": {},
   "source": [
    "US / Eurozone / CH / China"
   ]
  },
  {
   "cell_type": "code",
   "execution_count": null,
   "id": "a65c2029",
   "metadata": {},
   "outputs": [],
   "source": [
    "Makro_Data = ['USUNR=ECI',  #US Unemploymet\n",
    "              'USCPI=ECI',  #US CPI\n",
    "              'USPMI=ECI',  #US PMI\n",
    "              \n",
    "              'EUUNR=ECI',  #EU Unemployment\n",
    "              'EUHICY=ECI', #EU CPI\n",
    "              'EUPMI=ECI',  #EU PMI                NICHT GUT (Nicht vollständig)\n",
    "              \n",
    "              'CHJOB=ECI',  #CH Unemployment\n",
    "              'CHCPIY=ECI', #CH CPI\n",
    "              'CHPMI=ECI',  #CH PMI\n",
    "              \n",
    "            #China is in the Dataset due to its exposure to the Metals\n",
    "\n",
    "              'CNURUA=ECI', #China Unemployment    NICHT GUT (Nicht vollständig)\n",
    "              'CNCPI=ECI',   #China CPI\n",
    "              'CNPMIB=ECI',  #China PMI\n",
    "\n",
    "            #Russia is in the Dataset due to its exporsure to Oil & Gas\n",
    "\n",
    "              'RUUNR=ECI',  #Russia Unemployment\n",
    "              'RUCPIY=ECI', #Russia CPI\n",
    "              'RUPMIM=ECI', #Russia PMI            NICHT GUT (Nicht vollständig)\n",
    "             ]  "
   ]
  },
  {
   "cell_type": "code",
   "execution_count": null,
   "id": "ddea1ecb",
   "metadata": {},
   "outputs": [],
   "source": [
    "macro = ek.get_timeseries(Makro_Data,\n",
    "                          start_date='2012-01-01',\n",
    "                          end_date='2022-01-01',\n",
    "                          fields='VALUE',\n",
    "                          interval='monthly')                      "
   ]
  },
  {
   "cell_type": "code",
   "execution_count": null,
   "id": "7c140c51",
   "metadata": {},
   "outputs": [],
   "source": [
    "macro.isnull().sum()"
   ]
  },
  {
   "cell_type": "code",
   "execution_count": null,
   "id": "2138beb9",
   "metadata": {},
   "outputs": [],
   "source": [
    "macro.describe()"
   ]
  },
  {
   "cell_type": "code",
   "execution_count": null,
   "id": "cc8000f4",
   "metadata": {},
   "outputs": [],
   "source": [
    "macro.plot(subplots=True, figsize=(15,15))"
   ]
  },
  {
   "cell_type": "code",
   "execution_count": null,
   "id": "8175adf7",
   "metadata": {},
   "outputs": [],
   "source": [
    "\n",
    "\n",
    "\n",
    "\n"
   ]
  },
  {
   "cell_type": "code",
   "execution_count": null,
   "id": "14a16060",
   "metadata": {},
   "outputs": [],
   "source": [
    "macro2 = macro\n",
    "macro2.columns = macro2.columns.str.replace(\"=\", \"_\")\n",
    "macro2 = macro2.unstack()\n",
    "macro2 = macro2.reset_index()\n",
    "macro2 = macro2.rename(columns={'VALUE': 'Macro_Variable', 0: 'Value'})\n",
    "macro2['Date'] = pd.to_datetime(macro2['Date']).dt.date\n",
    "liste_SQL = macro2.values.tolist()\n",
    "macro2.head(5)"
   ]
  },
  {
   "cell_type": "code",
   "execution_count": null,
   "id": "a15febf8",
   "metadata": {},
   "outputs": [],
   "source": [
    "import sqlite3\n",
    "from sqlite3 import Error\n",
    " \n",
    "\"\"\" create a database connection tool to a SQLite database \"\"\"\n",
    "def create_connection(db_file):\n",
    "    conn = None\n",
    "    try:\n",
    "        conn = sqlite3.connect(db_file)\n",
    "        print(sqlite3.version)\n",
    "    except Error as e:\n",
    "        print(e)\n",
    "    finally:\n",
    "        if conn:\n",
    "            conn.close()\n",
    "\n",
    "if __name__ == '__main__':\n",
    "    create_connection(r\"C:\\Users\\lione\\OneDrive\\Dokumente\\GitHub\\AQM\\SQL_DB.db\")"
   ]
  },
  {
   "cell_type": "code",
   "execution_count": null,
   "id": "b2e17a02",
   "metadata": {},
   "outputs": [],
   "source": [
    "conn = sqlite3.connect('SQL_DB.db')\n",
    "c = conn.cursor()\n",
    "c.execute('''DROP TABLE IF EXISTS MACRO_DATA;''')"
   ]
  },
  {
   "cell_type": "code",
   "execution_count": null,
   "id": "1a453156",
   "metadata": {},
   "outputs": [],
   "source": [
    "conn = sqlite3.connect('SQL_DB.db')\n",
    "c = conn.cursor()\n",
    "c.execute('''CREATE TABLE MACRO_DATA (\n",
    "    \"Macro_Variable\" TEXT,\n",
    "    DATE DATETIME,\n",
    "\t\"Value\" NUMERIC\n",
    ");''')\n"
   ]
  },
  {
   "cell_type": "code",
   "execution_count": null,
   "id": "fb907f2c",
   "metadata": {},
   "outputs": [],
   "source": [
    "conn = sqlite3.connect(r\"C:\\Users\\lione\\OneDrive\\Dokumente\\GitHub\\AQM\\SQL_DB.db\")\n",
    "#Add all Data at once:\n",
    "c = conn.cursor()\n",
    "c.executemany(\"INSERT INTO MACRO_DATA(Macro_Variable, DATE, Value) VALUES (?,?,?)\", liste_SQL)    \n",
    "conn.commit()"
   ]
  },
  {
   "cell_type": "code",
   "execution_count": null,
   "id": "15e2f2fc",
   "metadata": {},
   "outputs": [],
   "source": [
    "#Select Data from SQL DB:   \n",
    "c = conn.cursor()\n",
    "c.execute(\"SELECT * FROM MACRO_DATA\")\n",
    "new_data=c.fetchall()\n",
    "ref_data = pd.DataFrame(new_data,columns=['Macro_Variable', 'DATE', 'Value'])\n",
    "ref_data = ref_data.set_index('DATE')\n",
    "ref_data"
   ]
  },
  {
   "cell_type": "code",
   "execution_count": null,
   "id": "f54d7ab0",
   "metadata": {},
   "outputs": [],
   "source": [
    "macro_data = ref_data.pivot(columns='Macro_Variable', values=['Value'])\n",
    "macro_data.to_excel('Macro_Data_from_SQL.xlsx')\n",
    "macro_data"
   ]
  }
 ],
 "metadata": {
  "kernelspec": {
   "display_name": "Python 3",
   "language": "python",
   "name": "python3"
  },
  "language_info": {
   "codemirror_mode": {
    "name": "ipython",
    "version": 3
   },
   "file_extension": ".py",
   "mimetype": "text/x-python",
   "name": "python",
   "nbconvert_exporter": "python",
   "pygments_lexer": "ipython3",
   "version": "3.8.3"
  }
 },
 "nbformat": 4,
 "nbformat_minor": 5
}
