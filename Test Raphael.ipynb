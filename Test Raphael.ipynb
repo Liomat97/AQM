{
 "cells": [
  {
   "cell_type": "code",
   "execution_count": 1,
   "id": "bd3433e2",
   "metadata": {},
   "outputs": [],
   "source": [
    "import math\n",
    "import pandas as pd\n",
    "import numpy as np\n",
    "import matplotlib.pyplot as plt\n",
    "from mpl_toolkits.mplot3d import Axes3D\n",
    "\n",
    "import scipy\n",
    "import seaborn as sns\n",
    "import xlsxwriter\n",
    "\n",
    "import math\n",
    "from math import exp, sqrt, log\n",
    "\n",
    "%matplotlib inline\n",
    "\n",
    "from scipy import stats\n",
    "\n",
    "import statsmodels as sm\n",
    "from statsmodels.regression.linear_model import OLS"
   ]
  },
  {
   "cell_type": "code",
   "execution_count": 2,
   "id": "843b7b60",
   "metadata": {},
   "outputs": [
    {
     "data": {
      "text/html": [
       "<div>\n",
       "<style scoped>\n",
       "    .dataframe tbody tr th:only-of-type {\n",
       "        vertical-align: middle;\n",
       "    }\n",
       "\n",
       "    .dataframe tbody tr th {\n",
       "        vertical-align: top;\n",
       "    }\n",
       "\n",
       "    .dataframe thead th {\n",
       "        text-align: right;\n",
       "    }\n",
       "</style>\n",
       "<table border=\"1\" class=\"dataframe\">\n",
       "  <thead>\n",
       "    <tr style=\"text-align: right;\">\n",
       "      <th></th>\n",
       "      <th>CLc1</th>\n",
       "      <th>Cc1</th>\n",
       "      <th>GCc1</th>\n",
       "      <th>LCOc1</th>\n",
       "      <th>LCc1</th>\n",
       "      <th>NGLNMc1</th>\n",
       "      <th>NGc1</th>\n",
       "      <th>OJc1</th>\n",
       "      <th>PAc1</th>\n",
       "      <th>PLc1</th>\n",
       "      <th>SIc1</th>\n",
       "      <th>Wc1</th>\n",
       "    </tr>\n",
       "    <tr>\n",
       "      <th>Date</th>\n",
       "      <th></th>\n",
       "      <th></th>\n",
       "      <th></th>\n",
       "      <th></th>\n",
       "      <th></th>\n",
       "      <th></th>\n",
       "      <th></th>\n",
       "      <th></th>\n",
       "      <th></th>\n",
       "      <th></th>\n",
       "      <th></th>\n",
       "      <th></th>\n",
       "    </tr>\n",
       "  </thead>\n",
       "  <tbody>\n",
       "    <tr>\n",
       "      <th>2012-01-03</th>\n",
       "      <td>102.96</td>\n",
       "      <td>658.5</td>\n",
       "      <td>1599.7</td>\n",
       "      <td>112.13</td>\n",
       "      <td>121.550</td>\n",
       "      <td>52.75</td>\n",
       "      <td>2.993</td>\n",
       "      <td>173.50</td>\n",
       "      <td>662.95</td>\n",
       "      <td>1427.3</td>\n",
       "      <td>29.533</td>\n",
       "      <td>657.00</td>\n",
       "    </tr>\n",
       "    <tr>\n",
       "      <th>2012-01-04</th>\n",
       "      <td>103.22</td>\n",
       "      <td>658.5</td>\n",
       "      <td>1611.9</td>\n",
       "      <td>113.70</td>\n",
       "      <td>121.625</td>\n",
       "      <td>53.09</td>\n",
       "      <td>3.096</td>\n",
       "      <td>184.75</td>\n",
       "      <td>653.00</td>\n",
       "      <td>1423.1</td>\n",
       "      <td>29.063</td>\n",
       "      <td>650.00</td>\n",
       "    </tr>\n",
       "    <tr>\n",
       "      <th>2012-01-05</th>\n",
       "      <td>101.81</td>\n",
       "      <td>643.5</td>\n",
       "      <td>1619.4</td>\n",
       "      <td>112.74</td>\n",
       "      <td>120.950</td>\n",
       "      <td>52.95</td>\n",
       "      <td>2.980</td>\n",
       "      <td>182.25</td>\n",
       "      <td>643.85</td>\n",
       "      <td>1414.5</td>\n",
       "      <td>29.265</td>\n",
       "      <td>629.25</td>\n",
       "    </tr>\n",
       "    <tr>\n",
       "      <th>2012-01-06</th>\n",
       "      <td>101.56</td>\n",
       "      <td>643.5</td>\n",
       "      <td>1616.1</td>\n",
       "      <td>113.06</td>\n",
       "      <td>120.325</td>\n",
       "      <td>52.87</td>\n",
       "      <td>3.062</td>\n",
       "      <td>182.00</td>\n",
       "      <td>613.45</td>\n",
       "      <td>1404.5</td>\n",
       "      <td>28.653</td>\n",
       "      <td>624.75</td>\n",
       "    </tr>\n",
       "    <tr>\n",
       "      <th>2012-01-09</th>\n",
       "      <td>101.31</td>\n",
       "      <td>652.0</td>\n",
       "      <td>1607.5</td>\n",
       "      <td>112.45</td>\n",
       "      <td>119.950</td>\n",
       "      <td>54.84</td>\n",
       "      <td>3.011</td>\n",
       "      <td>193.95</td>\n",
       "      <td>617.30</td>\n",
       "      <td>1427.5</td>\n",
       "      <td>28.749</td>\n",
       "      <td>641.75</td>\n",
       "    </tr>\n",
       "  </tbody>\n",
       "</table>\n",
       "</div>"
      ],
      "text/plain": [
       "              CLc1    Cc1    GCc1   LCOc1     LCc1  NGLNMc1   NGc1    OJc1  \\\n",
       "Date                                                                         \n",
       "2012-01-03  102.96  658.5  1599.7  112.13  121.550    52.75  2.993  173.50   \n",
       "2012-01-04  103.22  658.5  1611.9  113.70  121.625    53.09  3.096  184.75   \n",
       "2012-01-05  101.81  643.5  1619.4  112.74  120.950    52.95  2.980  182.25   \n",
       "2012-01-06  101.56  643.5  1616.1  113.06  120.325    52.87  3.062  182.00   \n",
       "2012-01-09  101.31  652.0  1607.5  112.45  119.950    54.84  3.011  193.95   \n",
       "\n",
       "              PAc1    PLc1    SIc1     Wc1  \n",
       "Date                                        \n",
       "2012-01-03  662.95  1427.3  29.533  657.00  \n",
       "2012-01-04  653.00  1423.1  29.063  650.00  \n",
       "2012-01-05  643.85  1414.5  29.265  629.25  \n",
       "2012-01-06  613.45  1404.5  28.653  624.75  \n",
       "2012-01-09  617.30  1427.5  28.749  641.75  "
      ]
     },
     "execution_count": 2,
     "metadata": {},
     "output_type": "execute_result"
    }
   ],
   "source": [
    "# Hier wird das File geladen - Unnamed gelöscht und das Datum als Index gesetzt\n",
    "\n",
    "df = pd.read_excel('Data_Refinitiv.xlsx',)\n",
    "del df['Unnamed: 0']\n",
    "df = df.set_index(['Date'])\n",
    "df.head()"
   ]
  },
  {
   "cell_type": "code",
   "execution_count": 5,
   "id": "9790e7c4",
   "metadata": {},
   "outputs": [
    {
     "name": "stdout",
     "output_type": "stream",
     "text": [
      "<class 'pandas.core.frame.DataFrame'>\n",
      "DatetimeIndex: 2583 entries, 2012-01-03 to 2021-12-31\n",
      "Data columns (total 12 columns):\n",
      " #   Column   Non-Null Count  Dtype  \n",
      "---  ------   --------------  -----  \n",
      " 0   CLc1     2521 non-null   float64\n",
      " 1   Cc1      2521 non-null   float64\n",
      " 2   GCc1     2521 non-null   float64\n",
      " 3   LCOc1    2582 non-null   float64\n",
      " 4   LCc1     2521 non-null   float64\n",
      " 5   NGLNMc1  2561 non-null   float64\n",
      " 6   NGc1     2521 non-null   float64\n",
      " 7   OJc1     2520 non-null   float64\n",
      " 8   PAc1     2517 non-null   float64\n",
      " 9   PLc1     2517 non-null   float64\n",
      " 10  SIc1     2520 non-null   float64\n",
      " 11  Wc1      2521 non-null   float64\n",
      "dtypes: float64(12)\n",
      "memory usage: 262.3 KB\n"
     ]
    }
   ],
   "source": [
    "# Hier wird der Datensatz überprüft - es fällt auf, dass es einige NA im Datensatz hat\n",
    "\n",
    "df.info()"
   ]
  },
  {
   "cell_type": "code",
   "execution_count": 6,
   "id": "a0a40e6f",
   "metadata": {},
   "outputs": [
    {
     "data": {
      "text/plain": [
       "CLc1       62\n",
       "Cc1        62\n",
       "GCc1       62\n",
       "LCOc1       1\n",
       "LCc1       62\n",
       "NGLNMc1    22\n",
       "NGc1       62\n",
       "OJc1       63\n",
       "PAc1       66\n",
       "PLc1       66\n",
       "SIc1       63\n",
       "Wc1        62\n",
       "dtype: int64"
      ]
     },
     "execution_count": 6,
     "metadata": {},
     "output_type": "execute_result"
    }
   ],
   "source": [
    "df.isnull().sum()"
   ]
  },
  {
   "cell_type": "code",
   "execution_count": 7,
   "id": "e5d8b2fd",
   "metadata": {},
   "outputs": [
    {
     "data": {
      "text/html": [
       "<div>\n",
       "<style scoped>\n",
       "    .dataframe tbody tr th:only-of-type {\n",
       "        vertical-align: middle;\n",
       "    }\n",
       "\n",
       "    .dataframe tbody tr th {\n",
       "        vertical-align: top;\n",
       "    }\n",
       "\n",
       "    .dataframe thead th {\n",
       "        text-align: right;\n",
       "    }\n",
       "</style>\n",
       "<table border=\"1\" class=\"dataframe\">\n",
       "  <thead>\n",
       "    <tr style=\"text-align: right;\">\n",
       "      <th></th>\n",
       "      <th>CLc1</th>\n",
       "      <th>Cc1</th>\n",
       "      <th>GCc1</th>\n",
       "      <th>LCOc1</th>\n",
       "      <th>LCc1</th>\n",
       "      <th>NGLNMc1</th>\n",
       "      <th>NGc1</th>\n",
       "      <th>OJc1</th>\n",
       "      <th>PAc1</th>\n",
       "      <th>PLc1</th>\n",
       "      <th>SIc1</th>\n",
       "      <th>Wc1</th>\n",
       "    </tr>\n",
       "    <tr>\n",
       "      <th>Date</th>\n",
       "      <th></th>\n",
       "      <th></th>\n",
       "      <th></th>\n",
       "      <th></th>\n",
       "      <th></th>\n",
       "      <th></th>\n",
       "      <th></th>\n",
       "      <th></th>\n",
       "      <th></th>\n",
       "      <th></th>\n",
       "      <th></th>\n",
       "      <th></th>\n",
       "    </tr>\n",
       "  </thead>\n",
       "  <tbody>\n",
       "    <tr>\n",
       "      <th>2012-01-03</th>\n",
       "      <td>102.96</td>\n",
       "      <td>658.50</td>\n",
       "      <td>1599.7</td>\n",
       "      <td>112.13</td>\n",
       "      <td>121.550</td>\n",
       "      <td>52.75</td>\n",
       "      <td>2.993</td>\n",
       "      <td>173.50</td>\n",
       "      <td>662.95</td>\n",
       "      <td>1427.3</td>\n",
       "      <td>29.533</td>\n",
       "      <td>657.00</td>\n",
       "    </tr>\n",
       "    <tr>\n",
       "      <th>2012-01-04</th>\n",
       "      <td>103.22</td>\n",
       "      <td>658.50</td>\n",
       "      <td>1611.9</td>\n",
       "      <td>113.70</td>\n",
       "      <td>121.625</td>\n",
       "      <td>53.09</td>\n",
       "      <td>3.096</td>\n",
       "      <td>184.75</td>\n",
       "      <td>653.00</td>\n",
       "      <td>1423.1</td>\n",
       "      <td>29.063</td>\n",
       "      <td>650.00</td>\n",
       "    </tr>\n",
       "    <tr>\n",
       "      <th>2012-01-05</th>\n",
       "      <td>101.81</td>\n",
       "      <td>643.50</td>\n",
       "      <td>1619.4</td>\n",
       "      <td>112.74</td>\n",
       "      <td>120.950</td>\n",
       "      <td>52.95</td>\n",
       "      <td>2.980</td>\n",
       "      <td>182.25</td>\n",
       "      <td>643.85</td>\n",
       "      <td>1414.5</td>\n",
       "      <td>29.265</td>\n",
       "      <td>629.25</td>\n",
       "    </tr>\n",
       "    <tr>\n",
       "      <th>2012-01-06</th>\n",
       "      <td>101.56</td>\n",
       "      <td>643.50</td>\n",
       "      <td>1616.1</td>\n",
       "      <td>113.06</td>\n",
       "      <td>120.325</td>\n",
       "      <td>52.87</td>\n",
       "      <td>3.062</td>\n",
       "      <td>182.00</td>\n",
       "      <td>613.45</td>\n",
       "      <td>1404.5</td>\n",
       "      <td>28.653</td>\n",
       "      <td>624.75</td>\n",
       "    </tr>\n",
       "    <tr>\n",
       "      <th>2012-01-09</th>\n",
       "      <td>101.31</td>\n",
       "      <td>652.00</td>\n",
       "      <td>1607.5</td>\n",
       "      <td>112.45</td>\n",
       "      <td>119.950</td>\n",
       "      <td>54.84</td>\n",
       "      <td>3.011</td>\n",
       "      <td>193.95</td>\n",
       "      <td>617.30</td>\n",
       "      <td>1427.5</td>\n",
       "      <td>28.749</td>\n",
       "      <td>641.75</td>\n",
       "    </tr>\n",
       "    <tr>\n",
       "      <th>...</th>\n",
       "      <td>...</td>\n",
       "      <td>...</td>\n",
       "      <td>...</td>\n",
       "      <td>...</td>\n",
       "      <td>...</td>\n",
       "      <td>...</td>\n",
       "      <td>...</td>\n",
       "      <td>...</td>\n",
       "      <td>...</td>\n",
       "      <td>...</td>\n",
       "      <td>...</td>\n",
       "      <td>...</td>\n",
       "    </tr>\n",
       "    <tr>\n",
       "      <th>2021-12-22</th>\n",
       "      <td>72.76</td>\n",
       "      <td>602.50</td>\n",
       "      <td>1801.6</td>\n",
       "      <td>75.29</td>\n",
       "      <td>135.750</td>\n",
       "      <td>432.34</td>\n",
       "      <td>3.976</td>\n",
       "      <td>147.25</td>\n",
       "      <td>1887.10</td>\n",
       "      <td>968.1</td>\n",
       "      <td>22.792</td>\n",
       "      <td>814.00</td>\n",
       "    </tr>\n",
       "    <tr>\n",
       "      <th>2021-12-23</th>\n",
       "      <td>73.79</td>\n",
       "      <td>605.75</td>\n",
       "      <td>1811.2</td>\n",
       "      <td>76.85</td>\n",
       "      <td>137.050</td>\n",
       "      <td>325.60</td>\n",
       "      <td>3.731</td>\n",
       "      <td>145.10</td>\n",
       "      <td>1954.70</td>\n",
       "      <td>974.6</td>\n",
       "      <td>22.931</td>\n",
       "      <td>814.75</td>\n",
       "    </tr>\n",
       "    <tr>\n",
       "      <th>2021-12-29</th>\n",
       "      <td>76.56</td>\n",
       "      <td>605.50</td>\n",
       "      <td>1805.1</td>\n",
       "      <td>79.23</td>\n",
       "      <td>139.400</td>\n",
       "      <td>233.18</td>\n",
       "      <td>4.024</td>\n",
       "      <td>136.70</td>\n",
       "      <td>1984.80</td>\n",
       "      <td>968.2</td>\n",
       "      <td>22.848</td>\n",
       "      <td>787.75</td>\n",
       "    </tr>\n",
       "    <tr>\n",
       "      <th>2021-12-30</th>\n",
       "      <td>76.99</td>\n",
       "      <td>596.00</td>\n",
       "      <td>1812.7</td>\n",
       "      <td>79.32</td>\n",
       "      <td>139.050</td>\n",
       "      <td>210.34</td>\n",
       "      <td>3.561</td>\n",
       "      <td>139.80</td>\n",
       "      <td>1979.20</td>\n",
       "      <td>963.6</td>\n",
       "      <td>23.028</td>\n",
       "      <td>779.75</td>\n",
       "    </tr>\n",
       "    <tr>\n",
       "      <th>2021-12-31</th>\n",
       "      <td>75.21</td>\n",
       "      <td>593.25</td>\n",
       "      <td>1827.5</td>\n",
       "      <td>77.78</td>\n",
       "      <td>138.900</td>\n",
       "      <td>170.64</td>\n",
       "      <td>3.730</td>\n",
       "      <td>146.30</td>\n",
       "      <td>1908.10</td>\n",
       "      <td>964.4</td>\n",
       "      <td>23.328</td>\n",
       "      <td>770.75</td>\n",
       "    </tr>\n",
       "  </tbody>\n",
       "</table>\n",
       "<p>2497 rows × 12 columns</p>\n",
       "</div>"
      ],
      "text/plain": [
       "              CLc1     Cc1    GCc1   LCOc1     LCc1  NGLNMc1   NGc1    OJc1  \\\n",
       "Date                                                                          \n",
       "2012-01-03  102.96  658.50  1599.7  112.13  121.550    52.75  2.993  173.50   \n",
       "2012-01-04  103.22  658.50  1611.9  113.70  121.625    53.09  3.096  184.75   \n",
       "2012-01-05  101.81  643.50  1619.4  112.74  120.950    52.95  2.980  182.25   \n",
       "2012-01-06  101.56  643.50  1616.1  113.06  120.325    52.87  3.062  182.00   \n",
       "2012-01-09  101.31  652.00  1607.5  112.45  119.950    54.84  3.011  193.95   \n",
       "...            ...     ...     ...     ...      ...      ...    ...     ...   \n",
       "2021-12-22   72.76  602.50  1801.6   75.29  135.750   432.34  3.976  147.25   \n",
       "2021-12-23   73.79  605.75  1811.2   76.85  137.050   325.60  3.731  145.10   \n",
       "2021-12-29   76.56  605.50  1805.1   79.23  139.400   233.18  4.024  136.70   \n",
       "2021-12-30   76.99  596.00  1812.7   79.32  139.050   210.34  3.561  139.80   \n",
       "2021-12-31   75.21  593.25  1827.5   77.78  138.900   170.64  3.730  146.30   \n",
       "\n",
       "               PAc1    PLc1    SIc1     Wc1  \n",
       "Date                                         \n",
       "2012-01-03   662.95  1427.3  29.533  657.00  \n",
       "2012-01-04   653.00  1423.1  29.063  650.00  \n",
       "2012-01-05   643.85  1414.5  29.265  629.25  \n",
       "2012-01-06   613.45  1404.5  28.653  624.75  \n",
       "2012-01-09   617.30  1427.5  28.749  641.75  \n",
       "...             ...     ...     ...     ...  \n",
       "2021-12-22  1887.10   968.1  22.792  814.00  \n",
       "2021-12-23  1954.70   974.6  22.931  814.75  \n",
       "2021-12-29  1984.80   968.2  22.848  787.75  \n",
       "2021-12-30  1979.20   963.6  23.028  779.75  \n",
       "2021-12-31  1908.10   964.4  23.328  770.75  \n",
       "\n",
       "[2497 rows x 12 columns]"
      ]
     },
     "execution_count": 7,
     "metadata": {},
     "output_type": "execute_result"
    }
   ],
   "source": [
    "#Erstellen von neuem Datensatz ohne die NA \n",
    "\n",
    "df_drop = pd.DataFrame(df)\n",
    "df_drop.dropna(axis='rows', inplace=True)\n",
    "df_drop"
   ]
  },
  {
   "cell_type": "code",
   "execution_count": 8,
   "id": "45d877ba",
   "metadata": {},
   "outputs": [
    {
     "data": {
      "text/plain": [
       "CLc1       0\n",
       "Cc1        0\n",
       "GCc1       0\n",
       "LCOc1      0\n",
       "LCc1       0\n",
       "NGLNMc1    0\n",
       "NGc1       0\n",
       "OJc1       0\n",
       "PAc1       0\n",
       "PLc1       0\n",
       "SIc1       0\n",
       "Wc1        0\n",
       "dtype: int64"
      ]
     },
     "execution_count": 8,
     "metadata": {},
     "output_type": "execute_result"
    }
   ],
   "source": [
    "df_drop.isnull().sum()"
   ]
  },
  {
   "cell_type": "code",
   "execution_count": 9,
   "id": "d02f3491",
   "metadata": {},
   "outputs": [
    {
     "name": "stdout",
     "output_type": "stream",
     "text": [
      "Es wurden total 3.33% der Daten gelöscht\n"
     ]
    }
   ],
   "source": [
    "# Wie gross ist der Verlust der Daten?\n",
    "Anzahl_Total = len(df)\n",
    "Anzahl_drop = len(df_drop)\n",
    "\n",
    "Resultat = round(((Anzahl_drop - Anzahl_Total)/Anzahl_Total)*100*(-1),2)\n",
    "\n",
    "print('Es wurden total ' + str(Resultat) + '%' + ' der Daten gelöscht')"
   ]
  },
  {
   "cell_type": "code",
   "execution_count": 10,
   "id": "89e6ec11",
   "metadata": {},
   "outputs": [
    {
     "name": "stdout",
     "output_type": "stream",
     "text": [
      "<class 'pandas.core.frame.DataFrame'>\n",
      "DatetimeIndex: 2583 entries, 2012-01-03 to 2021-12-31\n",
      "Data columns (total 12 columns):\n",
      " #   Column   Non-Null Count  Dtype  \n",
      "---  ------   --------------  -----  \n",
      " 0   CLc1     2583 non-null   float64\n",
      " 1   Cc1      2583 non-null   float64\n",
      " 2   GCc1     2583 non-null   float64\n",
      " 3   LCOc1    2583 non-null   float64\n",
      " 4   LCc1     2583 non-null   float64\n",
      " 5   NGLNMc1  2583 non-null   float64\n",
      " 6   NGc1     2583 non-null   float64\n",
      " 7   OJc1     2583 non-null   float64\n",
      " 8   PAc1     2583 non-null   float64\n",
      " 9   PLc1     2583 non-null   float64\n",
      " 10  SIc1     2583 non-null   float64\n",
      " 11  Wc1      2583 non-null   float64\n",
      "dtypes: float64(12)\n",
      "memory usage: 262.3 KB\n"
     ]
    }
   ],
   "source": [
    "#Erstellen von neuem Datensatz mit Backfill\n",
    "\n",
    "df_backfill = pd.DataFrame(df)\n",
    "df_backfill.bfill(axis='rows', inplace=True)\n",
    "df_backfill.info()"
   ]
  },
  {
   "cell_type": "code",
   "execution_count": 11,
   "id": "8651d91d",
   "metadata": {},
   "outputs": [
    {
     "data": {
      "text/plain": [
       "CLc1       0\n",
       "Cc1        0\n",
       "GCc1       0\n",
       "LCOc1      0\n",
       "LCc1       0\n",
       "NGLNMc1    0\n",
       "NGc1       0\n",
       "OJc1       0\n",
       "PAc1       0\n",
       "PLc1       0\n",
       "SIc1       0\n",
       "Wc1        0\n",
       "dtype: int64"
      ]
     },
     "execution_count": 11,
     "metadata": {},
     "output_type": "execute_result"
    }
   ],
   "source": [
    "df_backfill.isnull().sum()"
   ]
  },
  {
   "cell_type": "code",
   "execution_count": 12,
   "id": "981f0827",
   "metadata": {},
   "outputs": [
    {
     "data": {
      "text/plain": [
       "array([<AxesSubplot:xlabel='Date'>], dtype=object)"
      ]
     },
     "execution_count": 12,
     "metadata": {},
     "output_type": "execute_result"
    },
    {
     "data": {
      "image/png": "[encoded data removed]",
      "text/plain": [
       "<Figure size 1080x1080 with 1 Axes>"
      ]
     },
     "metadata": {
      "needs_background": "light"
     },
     "output_type": "display_data"
    }
   ],
   "source": [
    "df['CLc1'].plot(subplots=True, figsize=(15,15))"
   ]
  },
  {
   "cell_type": "code",
   "execution_count": 13,
   "id": "afa16c94",
   "metadata": {},
   "outputs": [
    {
     "data": {
      "text/plain": [
       "array([<AxesSubplot:xlabel='Date'>], dtype=object)"
      ]
     },
     "execution_count": 13,
     "metadata": {},
     "output_type": "execute_result"
    },
    {
     "data": {
      "image/png": "[encoded data removed]",
      "text/plain": [
       "<Figure size 1080x1080 with 1 Axes>"
      ]
     },
     "metadata": {
      "needs_background": "light"
     },
     "output_type": "display_data"
    }
   ],
   "source": [
    "df_backfill['CLc1'].plot(subplots=True, figsize=(15,15))"
   ]
  },
  {
   "cell_type": "code",
   "execution_count": null,
   "id": "3484bcd7",
   "metadata": {},
   "outputs": [],
   "source": []
  },
  {
   "cell_type": "code",
   "execution_count": null,
   "id": "1b203589",
   "metadata": {},
   "outputs": [],
   "source": []
  },
  {
   "cell_type": "code",
   "execution_count": null,
   "id": "bd2ee484",
   "metadata": {},
   "outputs": [],
   "source": []
  },
  {
   "cell_type": "code",
   "execution_count": null,
   "id": "bed0becd",
   "metadata": {},
   "outputs": [],
   "source": []
  },
  {
   "cell_type": "code",
   "execution_count": null,
   "id": "33caaf20",
   "metadata": {},
   "outputs": [],
   "source": []
  },
  {
   "cell_type": "code",
   "execution_count": null,
   "id": "7110c722",
   "metadata": {},
   "outputs": [],
   "source": []
  }
 ],
 "metadata": {
  "kernelspec": {
   "display_name": "Python 3",
   "language": "python",
   "name": "python3"
  },
  "language_info": {
   "codemirror_mode": {
    "name": "ipython",
    "version": 3
   },
   "file_extension": ".py",
   "mimetype": "text/x-python",
   "name": "python",
   "nbconvert_exporter": "python",
   "pygments_lexer": "ipython3",
   "version": "3.10.0"
  }
 },
 "nbformat": 4,
 "nbformat_minor": 5
}
